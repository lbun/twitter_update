{
 "cells": [
  {
   "cell_type": "code",
   "execution_count": 2,
   "metadata": {},
   "outputs": [],
   "source": [
    "import twitter\n",
    "import tweepy\n",
    "from tweepy import API\n",
    "from tweepy import Cursor\n",
    "import numpy as np\n",
    "from sqlalchemy import create_engine\n",
    "import pandas as pd\n",
    "import time\n",
    "from time import sleep\n",
    "import os\n",
    "import requests\n",
    "from bs4 import BeautifulSoup\n",
    "\n",
    "ck = os.environ.get('CK')\n",
    "cs = os.environ.get('CS')\n",
    "atk = os.environ.get('ATK')\n",
    "ats = os.environ.get('ATS')\n",
    "\n",
    "# print(os.environ.get(ck))\n",
    "\n",
    "auth = tweepy.OAuthHandler(ck, cs)\n",
    "auth.set_access_token(atk, ats)\n",
    "auth_api = API(auth)\n",
    "\n",
    "api = tweepy.API(auth, wait_on_rate_limit=True)"
   ]
  },
  {
   "cell_type": "code",
   "execution_count": 3,
   "metadata": {},
   "outputs": [
    {
     "name": "stdout",
     "output_type": "stream",
     "text": [
      "56\n"
     ]
    },
    {
     "data": {
      "text/plain": [
       "[788524, 2768501, 14138785, 6017542, 15808647]"
      ]
     },
     "execution_count": 3,
     "metadata": {},
     "output_type": "execute_result"
    }
   ],
   "source": [
    "# Get a LIST of friends that you are following\n",
    "list_of_friends_id = api.friends_ids()\n",
    "print(len(list_of_friends_id))\n",
    "list_of_friends_id[:5]"
   ]
  },
  {
   "cell_type": "code",
   "execution_count": 222,
   "metadata": {},
   "outputs": [
    {
     "name": "stdout",
     "output_type": "stream",
     "text": [
      "38\n"
     ]
    },
    {
     "data": {
      "text/plain": [
       "[17116782,\n",
       " 1129863867960635396,\n",
       " 264924050,\n",
       " 731732329572376576,\n",
       " 994672306013261824]"
      ]
     },
     "execution_count": 222,
     "metadata": {},
     "output_type": "execute_result"
    }
   ],
   "source": [
    "# To get the ids of people that are following you\n",
    "x = api.followers_ids()\n",
    "print(len(x))\n",
    "x[:5]"
   ]
  },
  {
   "cell_type": "code",
   "execution_count": 39,
   "metadata": {},
   "outputs": [
    {
     "name": "stdout",
     "output_type": "stream",
     "text": [
      "<class 'tweepy.models.ResultSet'> 5\n"
     ]
    }
   ],
   "source": [
    "# Getting informations from other users timelines\n",
    "y = api.user_timeline(15754281,count=5)\n",
    "print(type(y),len(y))"
   ]
  },
  {
   "cell_type": "code",
   "execution_count": 43,
   "metadata": {},
   "outputs": [
    {
     "name": "stdout",
     "output_type": "stream",
     "text": [
      "None 1134764021163409408 25 3 en\n"
     ]
    }
   ],
   "source": [
    "print(y[0].geo,y[0].id,y[0].favorite_count,y[0].retweet_count,y[0].lang)"
   ]
  },
  {
   "cell_type": "code",
   "execution_count": 17,
   "metadata": {},
   "outputs": [
    {
     "data": {
      "text/plain": [
       "20"
      ]
     },
     "execution_count": 17,
     "metadata": {},
     "output_type": "execute_result"
    }
   ],
   "source": [
    "# my id\n",
    "my_id = api.me().id\n",
    "len(api.user_timeline(my_id))"
   ]
  },
  {
   "cell_type": "code",
   "execution_count": 44,
   "metadata": {},
   "outputs": [],
   "source": [
    "# Getting my id and taking info from it\n",
    "my_id = api.me().id\n",
    "y = api.user_timeline(my_id)\n",
    "my_tweets_list = [i.id for i in y]"
   ]
  },
  {
   "cell_type": "code",
   "execution_count": 4,
   "metadata": {},
   "outputs": [],
   "source": [
    "list_of_friends_id = api.friends_ids()\n",
    "\n",
    "def theupdate_at_work():\n",
    "    while True:\n",
    "        df = pd.DataFrame(columns=np.arange(11))\n",
    "        for user in list_of_friends_id[:5]:\n",
    "            list_tweet = api.user_timeline(user,count=3,exclude_replies=True)\n",
    "            for tweet in list_tweet:\n",
    "                try:\n",
    "                    hashtags = ' '.join([i for i in tweet._json['text'].split() if i[0]=='#'])\n",
    "                    url=tweet._json['entities']['urls'][0]['url']\n",
    "                    page = requests.get(url)\n",
    "                    soup = BeautifulSoup(page.text, 'html.parser')\n",
    "                    h1 = '#news '+soup.find('h1').text.strip()\n",
    "\n",
    "                    df.loc[len(df)] = [tweet.id, #0\n",
    "                                       tweet.geo, #1\n",
    "                                       tweet.favorite_count, #2\n",
    "                                       tweet.retweet_count, #3\n",
    "                                       tweet.lang, #4\n",
    "                                        user,  #5\n",
    "                                       tweet._json['user']['id'],  #6\n",
    "                                       tweet._json['text'],  #7\n",
    "                                       tweet._json['entities']['urls'][0]['url'],   #8\n",
    "                                       hashtags,  #9\n",
    "                                       h1+' '+url+' '+hashtags]        #10\n",
    "                except:\n",
    "                    pass\n",
    "        df[11]=df[2]+df[3]*2   #scoring of the tweets\n",
    "        df = df[df[4]=='en']\n",
    "        df[12] = [False if i[:2]=='RT' else True for i in df[7]]\n",
    "        df = df.sort_values(by=11,ascending=False)\n",
    "        df = df[df[12]]\n",
    "        counter = 0\n",
    "        counter_tweet = 0\n",
    "        counter_errors = 0\n",
    "        for tw in list(df[10]):\n",
    "            # counter+=1\n",
    "            # print('Global counter: ',counter, end='\\r')\n",
    "            if counter_tweet==5:\n",
    "                break\n",
    "            else:\n",
    "                try:\n",
    "                    api.update_status(tw)\n",
    "                    counter_tweet+=1\n",
    "                    #print('tweet number: ',counter_tweet,end='\\r')\n",
    "                    for second in range(180):\n",
    "                        time.sleep(1)\n",
    "                        #print('timer: ',179-second,end='\\r')\n",
    "                except:\n",
    "                    pass"
   ]
  },
  {
   "cell_type": "code",
   "execution_count": null,
   "metadata": {},
   "outputs": [],
   "source": [
    "theupdate_at_work()"
   ]
  },
  {
   "cell_type": "code",
   "execution_count": 319,
   "metadata": {},
   "outputs": [],
   "source": [
    "tweet = api.user_timeline(15754281,count=3,exclude_replies=True)"
   ]
  },
  {
   "cell_type": "code",
   "execution_count": 321,
   "metadata": {},
   "outputs": [
    {
     "data": {
      "text/plain": [
       "{'url': 'https://t.co/iFVAavWvPU',\n",
       " 'expanded_url': 'https://twitter.com/i/web/status/1134823744076222466',\n",
       " 'display_url': 'twitter.com/i/web/status/1…',\n",
       " 'indices': [117, 140]}"
      ]
     },
     "execution_count": 321,
     "metadata": {},
     "output_type": "execute_result"
    }
   ],
   "source": [
    "tweet[0]._json['entities']['urls'][0]"
   ]
  },
  {
   "cell_type": "code",
   "execution_count": 240,
   "metadata": {},
   "outputs": [
    {
     "data": {
      "text/plain": [
       "'https://t.co/Lf6AqowKyN'"
      ]
     },
     "execution_count": 240,
     "metadata": {},
     "output_type": "execute_result"
    }
   ],
   "source": [
    "tweet[0]._json['entities']['urls'][0]['url']"
   ]
  },
  {
   "cell_type": "code",
   "execution_count": 241,
   "metadata": {},
   "outputs": [],
   "source": [
    "import selenium"
   ]
  },
  {
   "cell_type": "code",
   "execution_count": 308,
   "metadata": {},
   "outputs": [
    {
     "data": {
      "text/plain": [
       "(22, 11)"
      ]
     },
     "execution_count": 308,
     "metadata": {},
     "output_type": "execute_result"
    }
   ],
   "source": [
    "df.shape"
   ]
  },
  {
   "cell_type": "code",
   "execution_count": 257,
   "metadata": {},
   "outputs": [],
   "source": [
    "url='https://t.co/Lf6AqowKyN'\n",
    "page = requests.get(url)\n",
    "soup = BeautifulSoup(page.text, 'html.parser')"
   ]
  },
  {
   "cell_type": "code",
   "execution_count": null,
   "metadata": {},
   "outputs": [],
   "source": []
  },
  {
   "cell_type": "code",
   "execution_count": 265,
   "metadata": {},
   "outputs": [
    {
     "data": {
      "text/plain": [
       "'#news MLB sets record for most home runs in a month'"
      ]
     },
     "execution_count": 265,
     "metadata": {},
     "output_type": "execute_result"
    }
   ],
   "source": [
    "'#news '+soup.find('h1').text.strip()"
   ]
  },
  {
   "cell_type": "code",
   "execution_count": 269,
   "metadata": {},
   "outputs": [
    {
     "ename": "TweepError",
     "evalue": "[{'code': 187, 'message': 'Status is a duplicate.'}]",
     "output_type": "error",
     "traceback": [
      "\u001b[0;31m---------------------------------------------------------------------------\u001b[0m",
      "\u001b[0;31mTweepError\u001b[0m                                Traceback (most recent call last)",
      "\u001b[0;32m<ipython-input-269-b0d870dfea16>\u001b[0m in \u001b[0;36m<module>\u001b[0;34m\u001b[0m\n\u001b[0;32m----> 1\u001b[0;31m \u001b[0mx\u001b[0m \u001b[0;34m=\u001b[0m \u001b[0mapi\u001b[0m\u001b[0;34m.\u001b[0m\u001b[0mupdate_status\u001b[0m\u001b[0;34m(\u001b[0m\u001b[0;34m(\u001b[0m\u001b[0;34m'#news '\u001b[0m\u001b[0;34m+\u001b[0m\u001b[0msoup\u001b[0m\u001b[0;34m.\u001b[0m\u001b[0mfind\u001b[0m\u001b[0;34m(\u001b[0m\u001b[0;34m'h1'\u001b[0m\u001b[0;34m)\u001b[0m\u001b[0;34m.\u001b[0m\u001b[0mtext\u001b[0m\u001b[0;34m.\u001b[0m\u001b[0mstrip\u001b[0m\u001b[0;34m(\u001b[0m\u001b[0;34m)\u001b[0m\u001b[0;34m+\u001b[0m\u001b[0;34m' '\u001b[0m\u001b[0;34m+\u001b[0m\u001b[0murl\u001b[0m\u001b[0;34m)\u001b[0m\u001b[0;34m)\u001b[0m\u001b[0;34m\u001b[0m\u001b[0;34m\u001b[0m\u001b[0m\n\u001b[0m",
      "\u001b[0;32m~/anaconda3/lib/python3.7/site-packages/tweepy/api.py\u001b[0m in \u001b[0;36mupdate_status\u001b[0;34m(self, *args, **kwargs)\u001b[0m\n\u001b[1;32m    193\u001b[0m             \u001b[0mallowed_param\u001b[0m\u001b[0;34m=\u001b[0m\u001b[0;34m[\u001b[0m\u001b[0;34m'status'\u001b[0m\u001b[0;34m,\u001b[0m \u001b[0;34m'in_reply_to_status_id'\u001b[0m\u001b[0;34m,\u001b[0m \u001b[0;34m'in_reply_to_status_id_str'\u001b[0m\u001b[0;34m,\u001b[0m \u001b[0;34m'auto_populate_reply_metadata'\u001b[0m\u001b[0;34m,\u001b[0m \u001b[0;34m'lat'\u001b[0m\u001b[0;34m,\u001b[0m \u001b[0;34m'long'\u001b[0m\u001b[0;34m,\u001b[0m \u001b[0;34m'source'\u001b[0m\u001b[0;34m,\u001b[0m \u001b[0;34m'place_id'\u001b[0m\u001b[0;34m,\u001b[0m \u001b[0;34m'display_coordinates'\u001b[0m\u001b[0;34m]\u001b[0m\u001b[0;34m,\u001b[0m\u001b[0;34m\u001b[0m\u001b[0;34m\u001b[0m\u001b[0m\n\u001b[1;32m    194\u001b[0m             \u001b[0mrequire_auth\u001b[0m\u001b[0;34m=\u001b[0m\u001b[0;32mTrue\u001b[0m\u001b[0;34m\u001b[0m\u001b[0;34m\u001b[0m\u001b[0m\n\u001b[0;32m--> 195\u001b[0;31m         )(post_data=post_data, *args, **kwargs)\n\u001b[0m\u001b[1;32m    196\u001b[0m \u001b[0;34m\u001b[0m\u001b[0m\n\u001b[1;32m    197\u001b[0m     \u001b[0;32mdef\u001b[0m \u001b[0mmedia_upload\u001b[0m\u001b[0;34m(\u001b[0m\u001b[0mself\u001b[0m\u001b[0;34m,\u001b[0m \u001b[0mfilename\u001b[0m\u001b[0;34m,\u001b[0m \u001b[0;34m*\u001b[0m\u001b[0margs\u001b[0m\u001b[0;34m,\u001b[0m \u001b[0;34m**\u001b[0m\u001b[0mkwargs\u001b[0m\u001b[0;34m)\u001b[0m\u001b[0;34m:\u001b[0m\u001b[0;34m\u001b[0m\u001b[0;34m\u001b[0m\u001b[0m\n",
      "\u001b[0;32m~/anaconda3/lib/python3.7/site-packages/tweepy/binder.py\u001b[0m in \u001b[0;36m_call\u001b[0;34m(*args, **kwargs)\u001b[0m\n\u001b[1;32m    248\u001b[0m             \u001b[0;32mreturn\u001b[0m \u001b[0mmethod\u001b[0m\u001b[0;34m\u001b[0m\u001b[0;34m\u001b[0m\u001b[0m\n\u001b[1;32m    249\u001b[0m         \u001b[0;32melse\u001b[0m\u001b[0;34m:\u001b[0m\u001b[0;34m\u001b[0m\u001b[0;34m\u001b[0m\u001b[0m\n\u001b[0;32m--> 250\u001b[0;31m             \u001b[0;32mreturn\u001b[0m \u001b[0mmethod\u001b[0m\u001b[0;34m.\u001b[0m\u001b[0mexecute\u001b[0m\u001b[0;34m(\u001b[0m\u001b[0;34m)\u001b[0m\u001b[0;34m\u001b[0m\u001b[0;34m\u001b[0m\u001b[0m\n\u001b[0m\u001b[1;32m    251\u001b[0m \u001b[0;34m\u001b[0m\u001b[0m\n\u001b[1;32m    252\u001b[0m     \u001b[0;31m# Set pagination mode\u001b[0m\u001b[0;34m\u001b[0m\u001b[0;34m\u001b[0m\u001b[0;34m\u001b[0m\u001b[0m\n",
      "\u001b[0;32m~/anaconda3/lib/python3.7/site-packages/tweepy/binder.py\u001b[0m in \u001b[0;36mexecute\u001b[0;34m(self)\u001b[0m\n\u001b[1;32m    232\u001b[0m                     \u001b[0;32mraise\u001b[0m \u001b[0mRateLimitError\u001b[0m\u001b[0;34m(\u001b[0m\u001b[0merror_msg\u001b[0m\u001b[0;34m,\u001b[0m \u001b[0mresp\u001b[0m\u001b[0;34m)\u001b[0m\u001b[0;34m\u001b[0m\u001b[0;34m\u001b[0m\u001b[0m\n\u001b[1;32m    233\u001b[0m                 \u001b[0;32melse\u001b[0m\u001b[0;34m:\u001b[0m\u001b[0;34m\u001b[0m\u001b[0;34m\u001b[0m\u001b[0m\n\u001b[0;32m--> 234\u001b[0;31m                     \u001b[0;32mraise\u001b[0m \u001b[0mTweepError\u001b[0m\u001b[0;34m(\u001b[0m\u001b[0merror_msg\u001b[0m\u001b[0;34m,\u001b[0m \u001b[0mresp\u001b[0m\u001b[0;34m,\u001b[0m \u001b[0mapi_code\u001b[0m\u001b[0;34m=\u001b[0m\u001b[0mapi_error_code\u001b[0m\u001b[0;34m)\u001b[0m\u001b[0;34m\u001b[0m\u001b[0;34m\u001b[0m\u001b[0m\n\u001b[0m\u001b[1;32m    235\u001b[0m \u001b[0;34m\u001b[0m\u001b[0m\n\u001b[1;32m    236\u001b[0m             \u001b[0;31m# Parse the response payload\u001b[0m\u001b[0;34m\u001b[0m\u001b[0;34m\u001b[0m\u001b[0;34m\u001b[0m\u001b[0m\n",
      "\u001b[0;31mTweepError\u001b[0m: [{'code': 187, 'message': 'Status is a duplicate.'}]"
     ]
    }
   ],
   "source": [
    "api.update_status(('#news '+soup.find('h1').text.strip()+' '+url))"
   ]
  },
  {
   "cell_type": "code",
   "execution_count": 340,
   "metadata": {},
   "outputs": [
    {
     "name": "stdout",
     "output_type": "stream",
     "text": [
      "(14, 11)\n"
     ]
    }
   ],
   "source": [
    "df = pd.DataFrame(columns=np.arange(11))\n",
    "for user in list_of_friends_id[:5]:\n",
    "    list_tweet = api.user_timeline(user,count=3,exclude_replies=True)\n",
    "    for tweet in list_tweet:\n",
    "        try:\n",
    "            hashtags = ' '.join([i for i in tweet._json['text'].split() if i[0]=='#'])\n",
    "            url=tweet._json['entities']['urls'][0]['url']\n",
    "            page = requests.get(url)\n",
    "            soup = BeautifulSoup(page.text, 'html.parser')\n",
    "            h1 = '#news '+soup.find('h1').text.strip()\n",
    "\n",
    "            df.loc[len(df)] = [tweet.id, #0\n",
    "                               tweet.geo, #1\n",
    "                               tweet.favorite_count, #2\n",
    "                               tweet.retweet_count, #3\n",
    "                               tweet.lang, #4\n",
    "                                user,  #5\n",
    "                               tweet._json['user']['id'],  #6\n",
    "                               tweet._json['text'],  #7\n",
    "                               tweet._json['entities']['urls'][0]['url'],   #8\n",
    "                               hashtags,  #9\n",
    "                               h1+' '+url+' '+hashtags]        #10\n",
    "        except:\n",
    "            pass\n",
    "print(df.shape)\n",
    "df[11]=df[2]+df[3]*2   #scoring of the tweets\n",
    "df = df[df[4]=='en']\n",
    "df[12] = [False if i[:2]=='RT' else True for i in df[7]]\n",
    "df = df.sort_values(by=11,ascending=False)\n",
    "df = df[df[12]]"
   ]
  },
  {
   "cell_type": "code",
   "execution_count": 343,
   "metadata": {},
   "outputs": [
    {
     "data": {
      "text/plain": [
       "'#news Beware high-value euro notes, British holidaymakers told https://t.co/wijl7h5j1D '"
      ]
     },
     "execution_count": 343,
     "metadata": {},
     "output_type": "execute_result"
    }
   ],
   "source": [
    "df[10][0]"
   ]
  },
  {
   "cell_type": "code",
   "execution_count": null,
   "metadata": {},
   "outputs": [],
   "source": [
    "np.arange(10)"
   ]
  },
  {
   "cell_type": "code",
   "execution_count": 307,
   "metadata": {},
   "outputs": [
    {
     "data": {
      "text/plain": [
       "'#PrideMonth #stance'"
      ]
     },
     "execution_count": 307,
     "metadata": {},
     "output_type": "execute_result"
    }
   ],
   "source": [
    "' '.join([i for i in df[7][23].split() if i[0]=='#'])"
   ]
  },
  {
   "cell_type": "code",
   "execution_count": 299,
   "metadata": {},
   "outputs": [
    {
     "data": {
      "text/html": [
       "<div>\n",
       "<style scoped>\n",
       "    .dataframe tbody tr th:only-of-type {\n",
       "        vertical-align: middle;\n",
       "    }\n",
       "\n",
       "    .dataframe tbody tr th {\n",
       "        vertical-align: top;\n",
       "    }\n",
       "\n",
       "    .dataframe thead th {\n",
       "        text-align: right;\n",
       "    }\n",
       "</style>\n",
       "<table border=\"1\" class=\"dataframe\">\n",
       "  <thead>\n",
       "    <tr style=\"text-align: right;\">\n",
       "      <th></th>\n",
       "      <th>0</th>\n",
       "      <th>1</th>\n",
       "      <th>2</th>\n",
       "      <th>3</th>\n",
       "      <th>4</th>\n",
       "      <th>5</th>\n",
       "      <th>6</th>\n",
       "      <th>7</th>\n",
       "      <th>8</th>\n",
       "      <th>9</th>\n",
       "      <th>10</th>\n",
       "    </tr>\n",
       "  </thead>\n",
       "  <tbody>\n",
       "    <tr>\n",
       "      <th>23</th>\n",
       "      <td>1134813479397920769</td>\n",
       "      <td>None</td>\n",
       "      <td>226</td>\n",
       "      <td>74</td>\n",
       "      <td>en</td>\n",
       "      <td>14511951</td>\n",
       "      <td>14511951</td>\n",
       "      <td>Taylor Swift kicked off #PrideMonth by knockin...</td>\n",
       "      <td>https://t.co/2VORF18j4E</td>\n",
       "      <td>374</td>\n",
       "      <td>True</td>\n",
       "    </tr>\n",
       "    <tr>\n",
       "      <th>25</th>\n",
       "      <td>1134802957592092672</td>\n",
       "      <td>None</td>\n",
       "      <td>103</td>\n",
       "      <td>24</td>\n",
       "      <td>en</td>\n",
       "      <td>14511951</td>\n",
       "      <td>14511951</td>\n",
       "      <td>Anita Hill gave the address for the graduating...</td>\n",
       "      <td>https://t.co/IJT44NKrMM</td>\n",
       "      <td>151</td>\n",
       "      <td>True</td>\n",
       "    </tr>\n",
       "  </tbody>\n",
       "</table>\n",
       "</div>"
      ],
      "text/plain": [
       "                     0     1    2   3   4         5         6   \\\n",
       "23  1134813479397920769  None  226  74  en  14511951  14511951   \n",
       "25  1134802957592092672  None  103  24  en  14511951  14511951   \n",
       "\n",
       "                                                   7   \\\n",
       "23  Taylor Swift kicked off #PrideMonth by knockin...   \n",
       "25  Anita Hill gave the address for the graduating...   \n",
       "\n",
       "                         8    9     10  \n",
       "23  https://t.co/2VORF18j4E  374  True  \n",
       "25  https://t.co/IJT44NKrMM  151  True  "
      ]
     },
     "execution_count": 299,
     "metadata": {},
     "output_type": "execute_result"
    }
   ],
   "source": [
    "df.head(2)"
   ]
  },
  {
   "cell_type": "code",
   "execution_count": null,
   "metadata": {},
   "outputs": [],
   "source": []
  }
 ],
 "metadata": {
  "kernelspec": {
   "display_name": "myenv",
   "language": "python",
   "name": "myenv"
  },
  "language_info": {
   "codemirror_mode": {
    "name": "ipython",
    "version": 3
   },
   "file_extension": ".py",
   "mimetype": "text/x-python",
   "name": "python",
   "nbconvert_exporter": "python",
   "pygments_lexer": "ipython3",
   "version": "3.7.1"
  }
 },
 "nbformat": 4,
 "nbformat_minor": 2
}

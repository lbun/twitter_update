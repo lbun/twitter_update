{
 "cells": [
  {
   "cell_type": "code",
   "execution_count": null,
   "metadata": {},
   "outputs": [],
   "source": []
  },
  {
   "cell_type": "code",
   "execution_count": 212,
   "metadata": {},
   "outputs": [],
   "source": [
    "import twitter\n",
    "import tweepy\n",
    "from tweepy import API\n",
    "from tweepy import Cursor\n",
    "import numpy as np\n",
    "from sqlalchemy import create_engine\n",
    "import pandas as pd\n",
    "import time\n",
    "from time import sleep\n",
    "import os\n",
    "\n",
    "ck = os.environ.get('CK')\n",
    "cs = os.environ.get('CS')\n",
    "atk = os.environ.get('ATK')\n",
    "ats = os.environ.get('ATS')\n",
    "\n",
    "# print(os.environ.get(ck))\n",
    "\n",
    "auth = tweepy.OAuthHandler(ck, cs)\n",
    "auth.set_access_token(atk, ats)\n",
    "auth_api = API(auth)\n",
    "\n",
    "api = tweepy.API(auth, wait_on_rate_limit=True)"
   ]
  },
  {
   "cell_type": "code",
   "execution_count": 14,
   "metadata": {},
   "outputs": [
    {
     "name": "stdout",
     "output_type": "stream",
     "text": [
      "58\n"
     ]
    },
    {
     "data": {
      "text/plain": [
       "[15754281, 788524, 2768501, 16834659, 14138785]"
      ]
     },
     "execution_count": 14,
     "metadata": {},
     "output_type": "execute_result"
    }
   ],
   "source": [
    "# Get a LIST of friends that you are following\n",
    "list_of_friends_id = api.friends_ids()\n",
    "print(len(list_of_friends_id))\n",
    "list_of_friends_id[:5]"
   ]
  },
  {
   "cell_type": "code",
   "execution_count": 222,
   "metadata": {},
   "outputs": [
    {
     "name": "stdout",
     "output_type": "stream",
     "text": [
      "38\n"
     ]
    },
    {
     "data": {
      "text/plain": [
       "[17116782,\n",
       " 1129863867960635396,\n",
       " 264924050,\n",
       " 731732329572376576,\n",
       " 994672306013261824]"
      ]
     },
     "execution_count": 222,
     "metadata": {},
     "output_type": "execute_result"
    }
   ],
   "source": [
    "# To get the ids of people that are following you\n",
    "x = api.followers_ids()\n",
    "print(len(x))\n",
    "x[:5]"
   ]
  },
  {
   "cell_type": "code",
   "execution_count": null,
   "metadata": {},
   "outputs": [],
   "source": []
  },
  {
   "cell_type": "code",
   "execution_count": null,
   "metadata": {},
   "outputs": [],
   "source": []
  },
  {
   "cell_type": "code",
   "execution_count": 39,
   "metadata": {},
   "outputs": [
    {
     "name": "stdout",
     "output_type": "stream",
     "text": [
      "<class 'tweepy.models.ResultSet'> 5\n"
     ]
    }
   ],
   "source": [
    "# Getting informations from other users timelines\n",
    "y = api.user_timeline(15754281,count=5)\n",
    "print(type(y),len(y))"
   ]
  },
  {
   "cell_type": "code",
   "execution_count": 43,
   "metadata": {},
   "outputs": [
    {
     "name": "stdout",
     "output_type": "stream",
     "text": [
      "None 1134764021163409408 25 3 en\n"
     ]
    }
   ],
   "source": [
    "print(y[0].geo,y[0].id,y[0].favorite_count,y[0].retweet_count,y[0].lang)"
   ]
  },
  {
   "cell_type": "code",
   "execution_count": 17,
   "metadata": {},
   "outputs": [
    {
     "data": {
      "text/plain": [
       "20"
      ]
     },
     "execution_count": 17,
     "metadata": {},
     "output_type": "execute_result"
    }
   ],
   "source": [
    "# my id\n",
    "my_id = api.me().id\n",
    "len(api.user_timeline(my_id))"
   ]
  },
  {
   "cell_type": "code",
   "execution_count": 44,
   "metadata": {},
   "outputs": [],
   "source": [
    "# Getting my id and taking info from it\n",
    "my_id = api.me().id\n",
    "y = api.user_timeline(my_id)\n",
    "my_tweets_list = [i.id for i in y]"
   ]
  },
  {
   "cell_type": "code",
   "execution_count": 186,
   "metadata": {},
   "outputs": [],
   "source": [
    "list_of_friends_id = api.friends_ids()\n",
    "\n",
    "def theupdate_at_work():\n",
    "    while True:\n",
    "        df = pd.DataFrame(columns=np.arange(8))\n",
    "        for user in list_of_friends_id:\n",
    "            list_tweet = api.user_timeline(user,count=3,exclude_replies=True)\n",
    "            for tweet in list_tweet:\n",
    "                df.loc[len(df)] = [tweet.id,tweet.geo,tweet.favorite_count,tweet.retweet_count,tweet.lang,\n",
    "                                user,tweet._json['user']['id'],tweet._json['text']]\n",
    "                                   #tweet._json['entities']['urls'][0]['url']]\n",
    "        df[8]=df[2]+df[3]*2   #scoring of the tweets\n",
    "        df = df[df[4]=='en']\n",
    "        df[9] = [False if i[:2]=='RT' else True for i in df[7]]\n",
    "        df = df.sort_values(by=9,ascending=False)\n",
    "        df = df[df[9]]\n",
    "        counter = 0\n",
    "        counter_tweet = 0\n",
    "        counter_errors = 0\n",
    "        for tw in list(df[0]):\n",
    "            # counter+=1\n",
    "            # print('Global counter: ',counter, end='\\r')\n",
    "            if counter_tweet==5:\n",
    "                break\n",
    "            else:\n",
    "                try:\n",
    "                    api.retweet(tw)\n",
    "                    counter_tweet+=1\n",
    "                    print('tweet number: ',counter_tweet,end='\\r')\n",
    "                    for second in range(180):\n",
    "                        time.sleep(1)\n",
    "                        print('timer: ',179-second,end='\\r')\n",
    "                except:\n",
    "                    pass"
   ]
  },
  {
   "cell_type": "code",
   "execution_count": 187,
   "metadata": {},
   "outputs": [
    {
     "name": "stdout",
     "output_type": "stream",
     "text": [
      "timer:  177r:  5\r"
     ]
    }
   ],
   "source": [
    "theupdate_at_work()"
   ]
  },
  {
   "cell_type": "code",
   "execution_count": 179,
   "metadata": {},
   "outputs": [],
   "source": [
    "tweet = api.user_timeline(15754281,count=3,exclude_replies=True)"
   ]
  },
  {
   "cell_type": "code",
   "execution_count": 183,
   "metadata": {},
   "outputs": [
    {
     "data": {
      "text/plain": [
       "[{'url': 'https://t.co/7RP5YhaiBl',\n",
       "  'expanded_url': 'https://twitter.com/i/web/status/1134779129126109185',\n",
       "  'display_url': 'twitter.com/i/web/status/1…',\n",
       "  'indices': [117, 140]}]"
      ]
     },
     "execution_count": 183,
     "metadata": {},
     "output_type": "execute_result"
    }
   ],
   "source": [
    "tweet[0]._json['entities']['urls']"
   ]
  },
  {
   "cell_type": "code",
   "execution_count": null,
   "metadata": {},
   "outputs": [],
   "source": [
    "tweet._json['entities']['urls'][0]['url']"
   ]
  },
  {
   "cell_type": "code",
   "execution_count": null,
   "metadata": {},
   "outputs": [],
   "source": []
  }
 ],
 "metadata": {
  "kernelspec": {
   "display_name": "myenv",
   "language": "python",
   "name": "myenv"
  },
  "language_info": {
   "codemirror_mode": {
    "name": "ipython",
    "version": 3
   },
   "file_extension": ".py",
   "mimetype": "text/x-python",
   "name": "python",
   "nbconvert_exporter": "python",
   "pygments_lexer": "ipython3",
   "version": "3.7.1"
  }
 },
 "nbformat": 4,
 "nbformat_minor": 2
}

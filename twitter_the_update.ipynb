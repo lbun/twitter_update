{
 "cells": [
  {
   "cell_type": "code",
   "execution_count": 1,
   "metadata": {},
   "outputs": [],
   "source": [
    "import twitter\n",
    "import tweepy\n",
    "from tweepy import API\n",
    "from tweepy import Cursor\n",
    "import numpy as np\n",
    "from sqlalchemy import create_engine\n",
    "import pandas as pd\n",
    "import time\n",
    "from time import sleep\n",
    "import os\n",
    "import requests\n",
    "from bs4 import BeautifulSoup\n",
    "import facebook\n",
    "import os\n",
    "\n",
    "ck = os.environ.get('CK')\n",
    "cs = os.environ.get('CS')\n",
    "atk = os.environ.get('ATK')\n",
    "ats = os.environ.get('ATS')\n",
    "\n",
    "# print(os.environ.get(ck))\n",
    "\n",
    "auth = tweepy.OAuthHandler(ck, cs)\n",
    "auth.set_access_token(atk, ats)\n",
    "auth_api = API(auth)\n",
    "\n",
    "api = tweepy.API(auth, wait_on_rate_limit=True)\n",
    "\n",
    "token = os.environ.get('fb')"
   ]
  },
  {
   "cell_type": "code",
   "execution_count": null,
   "metadata": {},
   "outputs": [],
   "source": []
  },
  {
   "cell_type": "code",
   "execution_count": 5,
   "metadata": {},
   "outputs": [
    {
     "name": "stdout",
     "output_type": "stream",
     "text": [
      "59\n"
     ]
    },
    {
     "data": {
      "text/plain": [
       "[19980499, 14940354, 20065936, 15492359, 788524]"
      ]
     },
     "execution_count": 5,
     "metadata": {},
     "output_type": "execute_result"
    }
   ],
   "source": [
    "# Get a LIST of friends that you are following\n",
    "list_of_friends_id = api.friends_ids()\n",
    "print(len(list_of_friends_id))\n",
    "list_of_friends_id[:5]"
   ]
  },
  {
   "cell_type": "code",
   "execution_count": null,
   "metadata": {},
   "outputs": [],
   "source": [
    "# To get the ids of people that are following you\n",
    "x = api.followers_ids()\n",
    "print(len(x))\n",
    "x[:5]"
   ]
  },
  {
   "cell_type": "code",
   "execution_count": null,
   "metadata": {},
   "outputs": [],
   "source": [
    "# Getting informations from other users timelines\n",
    "y = api.user_timeline(15754281,count=5)\n",
    "print(type(y),len(y))"
   ]
  },
  {
   "cell_type": "code",
   "execution_count": null,
   "metadata": {},
   "outputs": [],
   "source": [
    "print(y[0].geo,y[0].id,y[0].favorite_count,y[0].retweet_count,y[0].lang)"
   ]
  },
  {
   "cell_type": "code",
   "execution_count": null,
   "metadata": {},
   "outputs": [],
   "source": [
    "# my id\n",
    "my_id = api.me().id\n",
    "len(api.user_timeline(my_id))"
   ]
  },
  {
   "cell_type": "code",
   "execution_count": null,
   "metadata": {},
   "outputs": [],
   "source": [
    "# Getting my id and taking info from it\n",
    "my_id = api.me().id\n",
    "y = api.user_timeline(my_id)\n",
    "my_tweets_list = [i.id for i in y]"
   ]
  },
  {
   "cell_type": "code",
   "execution_count": null,
   "metadata": {},
   "outputs": [],
   "source": [
    "list_of_friends_id = api.friends_ids()\n",
    "\n",
    "def theupdate_at_work():\n",
    "    while True:\n",
    "        df = pd.DataFrame(columns=np.arange(11))\n",
    "        for user in list_of_friends_id[:5]:\n",
    "            list_tweet = api.user_timeline(user,count=3,exclude_replies=True)\n",
    "            for tweet in list_tweet:\n",
    "                try:\n",
    "                    hashtags = ' '.join([i for i in tweet._json['text'].split() if i[0]=='#'])\n",
    "                    url=tweet._json['entities']['urls'][0]['url']\n",
    "                    page = requests.get(url)\n",
    "                    soup = BeautifulSoup(page.text, 'html.parser')\n",
    "                    h1 = '#news '+soup.find('h1').text.strip()\n",
    "\n",
    "                    df.loc[len(df)] = [tweet.id, #0\n",
    "                                       tweet.geo, #1\n",
    "                                       tweet.favorite_count, #2\n",
    "                                       tweet.retweet_count, #3\n",
    "                                       tweet.lang, #4\n",
    "                                        user,  #5\n",
    "                                       tweet._json['user']['id'],  #6\n",
    "                                       tweet._json['text'],  #7\n",
    "                                       tweet._json['entities']['urls'][0]['url'],   #8\n",
    "                                       hashtags,  #9\n",
    "                                       h1+' '+url+' '+hashtags]        #10\n",
    "                except:\n",
    "                    pass\n",
    "        df[11]=df[2]+df[3]*2   #scoring of the tweets\n",
    "        df = df[df[4]=='en']\n",
    "        df[12] = [False if i[:2]=='RT' else True for i in df[7]]\n",
    "        df = df.sort_values(by=11,ascending=False)\n",
    "        df = df[df[12]]\n",
    "        counter = 0\n",
    "        counter_tweet = 0\n",
    "        counter_errors = 0\n",
    "        for i in list(df.index):\n",
    "            # counter+=1\n",
    "            # print('Global counter: ',counter, end='\\r')\n",
    "            if counter_tweet==5:\n",
    "                break\n",
    "            else:\n",
    "                try:\n",
    "                    api.update_status(df.loc[i][10])\n",
    "                    fb = facebook.GraphAPI(access_token=token)\n",
    "                    fb.put_object(\n",
    "                        parent_object=\"me\",\n",
    "                        connection_name=\"feed\",\n",
    "                        message=df.loc[i][7],\n",
    "                        link=df.loc[i][8]\n",
    "                                 )\n",
    "                    counter_tweet+=1\n",
    "                    #print('tweet number: ',counter_tweet,end='\\r')\n",
    "                    for second in range(180):\n",
    "                        time.sleep(1)\n",
    "                        #print('timer: ',179-second,end='\\r')\n",
    "                except:\n",
    "                    pass"
   ]
  },
  {
   "cell_type": "code",
   "execution_count": null,
   "metadata": {},
   "outputs": [],
   "source": [
    "theupdate_at_work()"
   ]
  },
  {
   "cell_type": "code",
   "execution_count": 4,
   "metadata": {},
   "outputs": [
    {
     "ename": "NameError",
     "evalue": "name 'list_of_friends_id' is not defined",
     "output_type": "error",
     "traceback": [
      "\u001b[0;31m---------------------------------------------------------------------------\u001b[0m",
      "\u001b[0;31mNameError\u001b[0m                                 Traceback (most recent call last)",
      "\u001b[0;32m<ipython-input-4-25d0ba68326d>\u001b[0m in \u001b[0;36m<module>\u001b[0;34m\u001b[0m\n\u001b[1;32m      1\u001b[0m \u001b[0mdf\u001b[0m \u001b[0;34m=\u001b[0m \u001b[0mpd\u001b[0m\u001b[0;34m.\u001b[0m\u001b[0mDataFrame\u001b[0m\u001b[0;34m(\u001b[0m\u001b[0mcolumns\u001b[0m\u001b[0;34m=\u001b[0m\u001b[0mnp\u001b[0m\u001b[0;34m.\u001b[0m\u001b[0marange\u001b[0m\u001b[0;34m(\u001b[0m\u001b[0;36m11\u001b[0m\u001b[0;34m)\u001b[0m\u001b[0;34m)\u001b[0m\u001b[0;34m\u001b[0m\u001b[0;34m\u001b[0m\u001b[0m\n\u001b[0;32m----> 2\u001b[0;31m \u001b[0;32mfor\u001b[0m \u001b[0muser\u001b[0m \u001b[0;32min\u001b[0m \u001b[0mlist_of_friends_id\u001b[0m\u001b[0;34m[\u001b[0m\u001b[0;34m:\u001b[0m\u001b[0;36m5\u001b[0m\u001b[0;34m]\u001b[0m\u001b[0;34m:\u001b[0m\u001b[0;34m\u001b[0m\u001b[0;34m\u001b[0m\u001b[0m\n\u001b[0m\u001b[1;32m      3\u001b[0m     \u001b[0mlist_tweet\u001b[0m \u001b[0;34m=\u001b[0m \u001b[0mapi\u001b[0m\u001b[0;34m.\u001b[0m\u001b[0muser_timeline\u001b[0m\u001b[0;34m(\u001b[0m\u001b[0muser\u001b[0m\u001b[0;34m,\u001b[0m\u001b[0mcount\u001b[0m\u001b[0;34m=\u001b[0m\u001b[0;36m3\u001b[0m\u001b[0;34m,\u001b[0m\u001b[0mexclude_replies\u001b[0m\u001b[0;34m=\u001b[0m\u001b[0;32mTrue\u001b[0m\u001b[0;34m)\u001b[0m\u001b[0;34m\u001b[0m\u001b[0;34m\u001b[0m\u001b[0m\n\u001b[1;32m      4\u001b[0m     \u001b[0;32mfor\u001b[0m \u001b[0mtweet\u001b[0m \u001b[0;32min\u001b[0m \u001b[0mlist_tweet\u001b[0m\u001b[0;34m:\u001b[0m\u001b[0;34m\u001b[0m\u001b[0;34m\u001b[0m\u001b[0m\n\u001b[1;32m      5\u001b[0m         \u001b[0mhashtags\u001b[0m \u001b[0;34m=\u001b[0m \u001b[0;34m' '\u001b[0m\u001b[0;34m.\u001b[0m\u001b[0mjoin\u001b[0m\u001b[0;34m(\u001b[0m\u001b[0;34m[\u001b[0m\u001b[0mi\u001b[0m \u001b[0;32mfor\u001b[0m \u001b[0mi\u001b[0m \u001b[0;32min\u001b[0m \u001b[0mtweet\u001b[0m\u001b[0;34m.\u001b[0m\u001b[0m_json\u001b[0m\u001b[0;34m[\u001b[0m\u001b[0;34m'text'\u001b[0m\u001b[0;34m]\u001b[0m\u001b[0;34m.\u001b[0m\u001b[0msplit\u001b[0m\u001b[0;34m(\u001b[0m\u001b[0;34m)\u001b[0m \u001b[0;32mif\u001b[0m \u001b[0mi\u001b[0m\u001b[0;34m[\u001b[0m\u001b[0;36m0\u001b[0m\u001b[0;34m]\u001b[0m\u001b[0;34m==\u001b[0m\u001b[0;34m'#'\u001b[0m\u001b[0;34m]\u001b[0m\u001b[0;34m)\u001b[0m\u001b[0;34m\u001b[0m\u001b[0;34m\u001b[0m\u001b[0m\n",
      "\u001b[0;31mNameError\u001b[0m: name 'list_of_friends_id' is not defined"
     ]
    }
   ],
   "source": [
    "df = pd.DataFrame(columns=np.arange(11))\n",
    "for user in list_of_friends_id[:5]:\n",
    "    list_tweet = api.user_timeline(user,count=3,exclude_replies=True)\n",
    "    for tweet in list_tweet:\n",
    "        hashtags = ' '.join([i for i in tweet._json['text'].split() if i[0]=='#'])\n",
    "        url=tweet._json['entities']['urls'][0]['url']\n",
    "        page = requests.get(url)\n",
    "        soup = BeautifulSoup(page.text, 'html.parser')\n",
    "        h1 = '#news '+soup.find('h1').text.strip()\n",
    "        df.loc[len(df)] = [tweet.id, #0\n",
    "                           tweet.geo, #1\n",
    "                           tweet.favorite_count, #2\n",
    "                           tweet.retweet_count, #3\n",
    "                           tweet.lang, #4\n",
    "                            user,  #5\n",
    "                           tweet._json['user']['id'],  #6\n",
    "                           tweet._json['text'],  #7\n",
    "                           tweet._json['entities']['urls'][0]['url'],   #8\n",
    "                           hashtags,  #9\n",
    "                           h1+' '+url+' '+hashtags]        #10\n",
    "df[11]=df[2]+df[3]*2   #scoring of the tweets\n",
    "df = df[df[4]=='en']\n",
    "df[12] = [False if i[:2]=='RT' else True for i in df[7]]\n",
    "df = df.sort_values(by=11,ascending=False)\n",
    "df = df[df[12]]"
   ]
  },
  {
   "cell_type": "code",
   "execution_count": null,
   "metadata": {},
   "outputs": [],
   "source": []
  },
  {
   "cell_type": "code",
   "execution_count": null,
   "metadata": {},
   "outputs": [],
   "source": []
  },
  {
   "cell_type": "code",
   "execution_count": null,
   "metadata": {},
   "outputs": [],
   "source": []
  },
  {
   "cell_type": "code",
   "execution_count": null,
   "metadata": {},
   "outputs": [],
   "source": []
  },
  {
   "cell_type": "code",
   "execution_count": null,
   "metadata": {},
   "outputs": [],
   "source": [
    "tweet = api.user_timeline(15754281,count=3,exclude_replies=True)"
   ]
  },
  {
   "cell_type": "code",
   "execution_count": null,
   "metadata": {},
   "outputs": [],
   "source": [
    "tweet[0]._json['entities']['urls'][0]"
   ]
  },
  {
   "cell_type": "code",
   "execution_count": null,
   "metadata": {},
   "outputs": [],
   "source": [
    "tweet[0]._json['entities']['urls'][0]['url']"
   ]
  },
  {
   "cell_type": "code",
   "execution_count": null,
   "metadata": {},
   "outputs": [],
   "source": [
    "import selenium"
   ]
  },
  {
   "cell_type": "code",
   "execution_count": null,
   "metadata": {},
   "outputs": [],
   "source": [
    "df.shape"
   ]
  },
  {
   "cell_type": "code",
   "execution_count": null,
   "metadata": {},
   "outputs": [],
   "source": [
    "url='https://t.co/Lf6AqowKyN'\n",
    "page = requests.get(url)\n",
    "soup = BeautifulSoup(page.text, 'html.parser')"
   ]
  },
  {
   "cell_type": "code",
   "execution_count": null,
   "metadata": {},
   "outputs": [],
   "source": []
  },
  {
   "cell_type": "code",
   "execution_count": null,
   "metadata": {},
   "outputs": [],
   "source": [
    "'#news '+soup.find('h1').text.strip()"
   ]
  },
  {
   "cell_type": "code",
   "execution_count": null,
   "metadata": {},
   "outputs": [],
   "source": [
    "api.update_status(('#news '+soup.find('h1').text.strip()+' '+url))"
   ]
  },
  {
   "cell_type": "code",
   "execution_count": null,
   "metadata": {},
   "outputs": [],
   "source": []
  },
  {
   "cell_type": "code",
   "execution_count": 6,
   "metadata": {},
   "outputs": [
    {
     "name": "stdout",
     "output_type": "stream",
     "text": [
      "(11, 11)\n"
     ]
    }
   ],
   "source": [
    "df = pd.DataFrame(columns=np.arange(11))\n",
    "for user in list_of_friends_id[:5]:\n",
    "    list_tweet = api.user_timeline(user,count=3,exclude_replies=True)\n",
    "    for tweet in list_tweet:\n",
    "        try:\n",
    "            hashtags = ' '.join([i for i in tweet._json['text'].split() if i[0]=='#'])\n",
    "            url=tweet._json['entities']['urls'][0]['url']\n",
    "            page = requests.get(url)\n",
    "            soup = BeautifulSoup(page.text, 'html.parser')\n",
    "            h1 = '#news '+soup.find('h1').text.strip()\n",
    "\n",
    "            df.loc[len(df)] = [tweet.id, #0\n",
    "                               tweet.geo, #1\n",
    "                               tweet.favorite_count, #2\n",
    "                               tweet.retweet_count, #3\n",
    "                               tweet.lang, #4\n",
    "                                user,  #5\n",
    "                               tweet._json['user']['id'],  #6\n",
    "                               tweet._json['text'],  #7\n",
    "                               tweet._json['entities']['urls'][0]['url'],   #8\n",
    "                               hashtags,  #9\n",
    "                               h1+' '+url+' '+hashtags]        #10\n",
    "        except:\n",
    "            pass\n",
    "print(df.shape)\n",
    "df[11]=df[2]+df[3]*2   #scoring of the tweets\n",
    "df = df[df[4]=='en']\n",
    "df[12] = [False if i[:2]=='RT' else True for i in df[7]]\n",
    "df = df.sort_values(by=11,ascending=False)\n",
    "df = df[df[12]]"
   ]
  },
  {
   "cell_type": "code",
   "execution_count": 16,
   "metadata": {},
   "outputs": [
    {
     "data": {
      "text/plain": [
       "Int64Index([7, 6, 0, 10, 5, 2, 4, 1, 8, 3], dtype='int64')"
      ]
     },
     "execution_count": 16,
     "metadata": {},
     "output_type": "execute_result"
    }
   ],
   "source": [
    "df.index"
   ]
  },
  {
   "cell_type": "code",
   "execution_count": 17,
   "metadata": {},
   "outputs": [
    {
     "data": {
      "text/html": [
       "<div>\n",
       "<style scoped>\n",
       "    .dataframe tbody tr th:only-of-type {\n",
       "        vertical-align: middle;\n",
       "    }\n",
       "\n",
       "    .dataframe tbody tr th {\n",
       "        vertical-align: top;\n",
       "    }\n",
       "\n",
       "    .dataframe thead th {\n",
       "        text-align: right;\n",
       "    }\n",
       "</style>\n",
       "<table border=\"1\" class=\"dataframe\">\n",
       "  <thead>\n",
       "    <tr style=\"text-align: right;\">\n",
       "      <th></th>\n",
       "      <th>0</th>\n",
       "      <th>1</th>\n",
       "      <th>2</th>\n",
       "      <th>3</th>\n",
       "      <th>4</th>\n",
       "      <th>5</th>\n",
       "      <th>6</th>\n",
       "      <th>7</th>\n",
       "      <th>8</th>\n",
       "      <th>9</th>\n",
       "      <th>10</th>\n",
       "      <th>11</th>\n",
       "      <th>12</th>\n",
       "    </tr>\n",
       "  </thead>\n",
       "  <tbody>\n",
       "    <tr>\n",
       "      <th>7</th>\n",
       "      <td>1136659216838668289</td>\n",
       "      <td>None</td>\n",
       "      <td>381</td>\n",
       "      <td>139</td>\n",
       "      <td>en</td>\n",
       "      <td>15492359</td>\n",
       "      <td>15492359</td>\n",
       "      <td>These incredible disappearing creatures use th...</td>\n",
       "      <td>https://t.co/Ph4UoK2YQR</td>\n",
       "      <td></td>\n",
       "      <td>#news TED TalksVerifizierter Account https://t...</td>\n",
       "      <td>659</td>\n",
       "      <td>True</td>\n",
       "    </tr>\n",
       "    <tr>\n",
       "      <th>6</th>\n",
       "      <td>1136663809656053760</td>\n",
       "      <td>None</td>\n",
       "      <td>307</td>\n",
       "      <td>61</td>\n",
       "      <td>en</td>\n",
       "      <td>15492359</td>\n",
       "      <td>15492359</td>\n",
       "      <td>The delightful science of baby laughter: https...</td>\n",
       "      <td>https://t.co/MBuw2yoWCJ</td>\n",
       "      <td></td>\n",
       "      <td>#news Meet a scientist with a most delightful ...</td>\n",
       "      <td>429</td>\n",
       "      <td>True</td>\n",
       "    </tr>\n",
       "  </tbody>\n",
       "</table>\n",
       "</div>"
      ],
      "text/plain": [
       "                    0     1    2    3   4         5         6   \\\n",
       "7  1136659216838668289  None  381  139  en  15492359  15492359   \n",
       "6  1136663809656053760  None  307   61  en  15492359  15492359   \n",
       "\n",
       "                                                  7                        8   \\\n",
       "7  These incredible disappearing creatures use th...  https://t.co/Ph4UoK2YQR   \n",
       "6  The delightful science of baby laughter: https...  https://t.co/MBuw2yoWCJ   \n",
       "\n",
       "  9                                                  10   11    12  \n",
       "7     #news TED TalksVerifizierter Account https://t...  659  True  \n",
       "6     #news Meet a scientist with a most delightful ...  429  True  "
      ]
     },
     "execution_count": 17,
     "metadata": {},
     "output_type": "execute_result"
    }
   ],
   "source": [
    "df.head(2)"
   ]
  },
  {
   "cell_type": "code",
   "execution_count": 18,
   "metadata": {},
   "outputs": [
    {
     "data": {
      "text/plain": [
       "'#news TED TalksVerifizierter Account https://t.co/Ph4UoK2YQR '"
      ]
     },
     "execution_count": 18,
     "metadata": {},
     "output_type": "execute_result"
    }
   ],
   "source": [
    "df.loc[7][10]"
   ]
  },
  {
   "cell_type": "code",
   "execution_count": null,
   "metadata": {},
   "outputs": [],
   "source": []
  },
  {
   "cell_type": "code",
   "execution_count": null,
   "metadata": {},
   "outputs": [],
   "source": []
  },
  {
   "cell_type": "code",
   "execution_count": 7,
   "metadata": {},
   "outputs": [
    {
     "data": {
      "text/plain": [
       "'#news ATP TourVerifizierter Account https://t.co/w162qdMUTP '"
      ]
     },
     "execution_count": 7,
     "metadata": {},
     "output_type": "execute_result"
    }
   ],
   "source": [
    "df[10][0]"
   ]
  },
  {
   "cell_type": "code",
   "execution_count": 8,
   "metadata": {},
   "outputs": [
    {
     "data": {
      "text/plain": [
       "array([0, 1, 2, 3, 4, 5, 6, 7, 8, 9])"
      ]
     },
     "execution_count": 8,
     "metadata": {},
     "output_type": "execute_result"
    }
   ],
   "source": [
    "np.arange(10)"
   ]
  },
  {
   "cell_type": "code",
   "execution_count": null,
   "metadata": {},
   "outputs": [],
   "source": [
    "' '.join([i for i in df[7][23].split() if i[0]=='#'])"
   ]
  },
  {
   "cell_type": "code",
   "execution_count": null,
   "metadata": {},
   "outputs": [],
   "source": [
    "df.head(2)"
   ]
  },
  {
   "cell_type": "code",
   "execution_count": null,
   "metadata": {},
   "outputs": [],
   "source": []
  }
 ],
 "metadata": {
  "kernelspec": {
   "display_name": "myenv",
   "language": "python",
   "name": "myenv"
  },
  "language_info": {
   "codemirror_mode": {
    "name": "ipython",
    "version": 3
   },
   "file_extension": ".py",
   "mimetype": "text/x-python",
   "name": "python",
   "nbconvert_exporter": "python",
   "pygments_lexer": "ipython3",
   "version": "3.7.1"
  }
 },
 "nbformat": 4,
 "nbformat_minor": 2
}

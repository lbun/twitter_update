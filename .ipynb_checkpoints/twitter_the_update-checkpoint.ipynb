{
 "cells": [
  {
   "cell_type": "code",
   "execution_count": 2,
   "metadata": {},
   "outputs": [],
   "source": [
    "import twitter\n",
    "import tweepy\n",
    "from tweepy import API\n",
    "from tweepy import Cursor\n",
    "import numpy as np\n",
    "from sqlalchemy import create_engine\n",
    "import pandas as pd\n",
    "import time\n",
    "from time import sleep\n",
    "import os\n",
    "import requests\n",
    "from bs4 import BeautifulSoup\n",
    "import facebook\n",
    "import os\n",
    "\n",
    "ck = os.environ.get('CK')\n",
    "cs = os.environ.get('CS')\n",
    "atk = os.environ.get('ATK')\n",
    "ats = os.environ.get('ATS')\n",
    "\n",
    "# print(os.environ.get(ck))\n",
    "\n",
    "auth = tweepy.OAuthHandler(ck, cs)\n",
    "auth.set_access_token(atk, ats)\n",
    "auth_api = API(auth)\n",
    "\n",
    "api = tweepy.API(auth, wait_on_rate_limit=True)\n",
    "\n",
    "token = os.environ.get('fb')"
   ]
  },
  {
   "cell_type": "code",
   "execution_count": null,
   "metadata": {},
   "outputs": [],
   "source": []
  },
  {
   "cell_type": "code",
   "execution_count": 9,
   "metadata": {},
   "outputs": [
    {
     "name": "stdout",
     "output_type": "stream",
     "text": [
      "59\n"
     ]
    },
    {
     "data": {
      "text/plain": [
       "[19980499, 14940354, 20065936, 15492359, 788524]"
      ]
     },
     "execution_count": 9,
     "metadata": {},
     "output_type": "execute_result"
    }
   ],
   "source": [
    "# Get a LIST of friends that you are following\n",
    "list_of_friends_id = api.friends_ids()\n",
    "print(len(list_of_friends_id))\n",
    "list_of_friends_id[:5]"
   ]
  },
  {
   "cell_type": "code",
   "execution_count": null,
   "metadata": {},
   "outputs": [],
   "source": [
    "# To get the ids of people that are following you\n",
    "x = api.followers_ids()\n",
    "print(len(x))\n",
    "x[:5]"
   ]
  },
  {
   "cell_type": "code",
   "execution_count": null,
   "metadata": {},
   "outputs": [],
   "source": [
    "# Getting informations from other users timelines\n",
    "y = api.user_timeline(15754281,count=5)\n",
    "print(type(y),len(y))"
   ]
  },
  {
   "cell_type": "code",
   "execution_count": null,
   "metadata": {},
   "outputs": [],
   "source": [
    "print(y[0].geo,y[0].id,y[0].favorite_count,y[0].retweet_count,y[0].lang)"
   ]
  },
  {
   "cell_type": "code",
   "execution_count": null,
   "metadata": {},
   "outputs": [],
   "source": [
    "# my id\n",
    "my_id = api.me().id\n",
    "len(api.user_timeline(my_id))"
   ]
  },
  {
   "cell_type": "code",
   "execution_count": null,
   "metadata": {},
   "outputs": [],
   "source": [
    "# Getting my id and taking info from it\n",
    "my_id = api.me().id\n",
    "y = api.user_timeline(my_id)\n",
    "my_tweets_list = [i.id for i in y]"
   ]
  },
  {
   "cell_type": "code",
   "execution_count": 3,
   "metadata": {},
   "outputs": [],
   "source": [
    "list_of_friends_id = api.friends_ids()\n",
    "\n",
    "def create_df():\n",
    "    df = pd.DataFrame(columns=np.arange(12))\n",
    "    for user in list_of_friends_id[:5]:\n",
    "        list_tweet = api.user_timeline(user,count=3,exclude_replies=True)\n",
    "        for tweet in list_tweet:\n",
    "            try:\n",
    "                hashtags = ' '.join([i for i in tweet._json['text'].split() if i[0]=='#'])\n",
    "                url=tweet._json['entities']['urls'][0]['url']\n",
    "                page = requests.get(url)\n",
    "                soup = BeautifulSoup(page.text, 'html.parser')\n",
    "                h1 = '#news '+soup.find('h1').text.strip()\n",
    "                list_values = [tweet.id, #0\n",
    "                       tweet.geo, #1\n",
    "                       tweet.favorite_count, #2\n",
    "                       tweet.retweet_count, #3\n",
    "                       tweet.lang, #4\n",
    "                        user,  #5\n",
    "                       tweet._json['user']['id'],  #6\n",
    "                       tweet._json['text'],  #7\n",
    "                       tweet._json['entities']['urls'][0]['url'],   #8\n",
    "                       hashtags,  #9\n",
    "                       h1+' '+url+' '+hashtags,       #10\n",
    "                       tweet.favorite_count*tweet.retweet_count, #11\n",
    "                      ]\n",
    "                df.loc[len(df)] = list_values\n",
    "            except:\n",
    "                pass\n",
    "\n",
    "    df[11]=df[2]+df[3]*2   #scoring of the tweets\n",
    "    df = df[df[4]=='en']\n",
    "    df[12] = [False if i[:2]=='RT' else True for i in df[7]]\n",
    "    df = df.sort_values(by=11,ascending=False)\n",
    "    df = df[df[12]]\n",
    "    print(df.shape)\n",
    "    return df"
   ]
  },
  {
   "cell_type": "code",
   "execution_count": 14,
   "metadata": {},
   "outputs": [],
   "source": [
    "def post_tweet(df):\n",
    "    counter_tweet = 0\n",
    "    for i in list(df.index):\n",
    "        try:\n",
    "            api.update_status(df.loc[i][10])\n",
    "            counter_tweet+=1\n",
    "            print(time.ctime(),counter_tweet)\n",
    "            time.sleep(180)\n",
    "        except:\n",
    "            pass"
   ]
  },
  {
   "cell_type": "code",
   "execution_count": null,
   "metadata": {},
   "outputs": [],
   "source": [
    "tweet_counter=0\n",
    "while tweet_counter<6:\n",
    "    df = create_df()\n",
    "    post_tweet(df)\n",
    "    if tweet_counter==5:\n",
    "        tweet_counter=0"
   ]
  },
  {
   "cell_type": "code",
   "execution_count": null,
   "metadata": {},
   "outputs": [],
   "source": []
  },
  {
   "cell_type": "code",
   "execution_count": 15,
   "metadata": {},
   "outputs": [
    {
     "name": "stdout",
     "output_type": "stream",
     "text": [
      "Fri Jun  7 22:38:43 2019 1\n"
     ]
    }
   ],
   "source": [
    "\n"
   ]
  },
  {
   "cell_type": "code",
   "execution_count": null,
   "metadata": {},
   "outputs": [],
   "source": []
  },
  {
   "cell_type": "code",
   "execution_count": null,
   "metadata": {},
   "outputs": [
    {
     "name": "stdout",
     "output_type": "stream",
     "text": [
      "(8, 13)\n",
      "(8, 13)\n",
      "(8, 13)\n",
      "(7, 13)\n"
     ]
    }
   ],
   "source": [
    "theupdate_at_work()"
   ]
  },
  {
   "cell_type": "code",
   "execution_count": 5,
   "metadata": {},
   "outputs": [],
   "source": [
    "import time"
   ]
  },
  {
   "cell_type": "code",
   "execution_count": 6,
   "metadata": {},
   "outputs": [
    {
     "data": {
      "text/plain": [
       "'Fri Jun  7 22:22:56 2019'"
      ]
     },
     "execution_count": 6,
     "metadata": {},
     "output_type": "execute_result"
    }
   ],
   "source": []
  },
  {
   "cell_type": "code",
   "execution_count": null,
   "metadata": {},
   "outputs": [],
   "source": []
  },
  {
   "cell_type": "code",
   "execution_count": 51,
   "metadata": {},
   "outputs": [
    {
     "name": "stdout",
     "output_type": "stream",
     "text": [
      "[1137051028464054278, None, 107, 11, 'und', 19980499, 19980499, '😂😂😂😂😂 https://t.co/GHThO9sBRm', 'https://t.co/GHThO9sBRm', '', '#news Novak DjokovicVerifizierter Account https://t.co/GHThO9sBRm ', 1177]\n",
      "[1136887753474359296, None, 0, 33, 'en', 14940354, 14940354, 'RT @lemieuxdavid: This is a great one! https://t.co/PgjSxSCcKB', 'https://t.co/PgjSxSCcKB', '', '#news Grateful DeadVerifizierter Account https://t.co/PgjSxSCcKB ', 0]\n",
      "[1136767285002231808, None, 45, 14, 'en', 14940354, 14940354, 'R.I.P. Dr. John. Pianist, singer Mac Rebennack, an icon of New Orleans music, has died. https://t.co/rXtW0XnHOO', 'https://t.co/rXtW0XnHOO', '', \"#news Pianist, singer Mac 'Dr. John' Rebennack, an icon of New Orleans music, has died at 77 https://t.co/rXtW0XnHOO \", 630]\n",
      "[1136617756722454528, None, 1, 3, 'en', 14940354, 14940354, 'Apple is reportedly buying self-driving startup https://t.co/DjinnsL6iX. https://t.co/4f3PNncTvE https://t.co/7xfVb60Cy1', 'https://t.co/DjinnsL6iX', '', '#news The Self-Driving Car is Here https://t.co/DjinnsL6iX ', 3]\n",
      "[1137077522368212992, None, 3, 0, 'en', 20065936, 20065936, 'The Best Way to Wash Your Fruits and Veggies — https://t.co/sxDrOq32Uu', 'https://t.co/sxDrOq32Uu', '', '#news The Best Way to Wash Your Fruits and Veggies https://t.co/sxDrOq32Uu ', 0]\n",
      "[1137069968900743174, None, 0, 0, 'en', 20065936, 20065936, \"Friday's Best Amazon Deals Include K-Cups and Smart Doorbells — https://t.co/t1ng8zfbT1\", 'https://t.co/t1ng8zfbT1', '', \"#news Friday's Best Amazon Deals Include K-Cups and Smart Doorbells https://t.co/t1ng8zfbT1 \", 0]\n",
      "[1137047329926733825, None, 6, 1, 'en', 20065936, 20065936, 'Frontier Communications Wants to Pay You $1000 to Swap Your Smartphone for a Flip Phone for a Week — https://t.co/Hf6XtSh41q', 'https://t.co/Hf6XtSh41q', '', '#news Frontier Communications Wants to Pay You $1000 to Swap Your Smartphone for a Flip Phone for a Week https://t.co/Hf6XtSh41q ', 6]\n",
      "[1137034041390247937, None, 3, 1, 'en', 20065936, 20065936, '5 Ways Hacking Will Evolve in the Future — https://t.co/8s9t1cje1J // Presented by @Discover https://t.co/wQ9B1XVmBO', 'https://t.co/8s9t1cje1J', '', '#news 5 Ways Hacking Will Evolve in the Future https://t.co/8s9t1cje1J ', 3]\n",
      "[1137017124440956929, None, 5, 3, 'en', 20065936, 20065936, 'The 50 Highest-Paying College Majors for 2019 — https://t.co/I3C9qRooVp', 'https://t.co/I3C9qRooVp', '', '#news The 50 Highest-Paying College Majors for 2019 https://t.co/I3C9qRooVp ', 15]\n",
      "[1137076911585333248, None, 110, 26, 'en', 15492359, 15492359, \"Why are straight women having less satisfying sex than men? Let's talk about the orgasm gap. https://t.co/iV9NTd7Qao\", 'https://t.co/iV9NTd7Qao', '', '#news We need to talk about the orgasm gap — and how to fix it https://t.co/iV9NTd7Qao ', 2860]\n",
      "[1137089621224017923, None, 0, 0, 'en', 788524, 788524, 'England look to Harry Winks to transform midfield exposed by De Jong https://t.co/6xb3eUIRi3', 'https://t.co/6xb3eUIRi3', '', '#news England look to Harry Winks to transform midfield exposed by De Jong https://t.co/6xb3eUIRi3 ', 0]\n",
      "[1137086993731661827, None, 3, 2, 'en', 788524, 788524, \"'I've paid a huge personal cost:' Google walkout organizer resigns over alleged retaliation https://t.co/hvWNGQhNd3\", 'https://t.co/hvWNGQhNd3', '', \"#news 'I've paid a huge personal cost:' Google walkout organizer resigns over alleged retaliation https://t.co/hvWNGQhNd3 \", 6]\n",
      "[1137084653372878849, None, 8, 3, 'en', 788524, 788524, 'Chess: Armageddon divides fans while Magnus Carlsen leads again in Norway https://t.co/FZ6WnOYoEa', 'https://t.co/FZ6WnOYoEa', '', '#news Chess: Armageddon divides fans while Magnus Carlsen leads again in Norway https://t.co/FZ6WnOYoEa ', 24]\n",
      "[1137082167505444865, None, 5, 1, 'en', 788524, 788524, \"Maths lecturer sacked for writing 'racist' on anti-extremism poster https://t.co/9Amcb0aNlu\", 'https://t.co/9Amcb0aNlu', '', \"#news Maths lecturer sacked for writing 'racist' on anti-extremism poster https://t.co/9Amcb0aNlu \", 5]\n",
      "[1137079954297053185, None, 21, 10, 'en', 788524, 788524, 'Muslim Council asks why Sajid Javid was excluded from Trump banquet https://t.co/Qqf4zdB68Y', 'https://t.co/Qqf4zdB68Y', '', '#news Muslim Council asks why Trump banquet excluded Sajid Javid https://t.co/Qqf4zdB68Y ', 210]\n",
      "                     0     1    2   3    4         5         6   \\\n",
      "0   1137051028464054278  None  107  11  und  19980499  19980499   \n",
      "1   1136887753474359296  None    0  33   en  14940354  14940354   \n",
      "2   1136767285002231808  None   45  14   en  14940354  14940354   \n",
      "3   1136617756722454528  None    1   3   en  14940354  14940354   \n",
      "4   1137077522368212992  None    3   0   en  20065936  20065936   \n",
      "5   1137069968900743174  None    0   0   en  20065936  20065936   \n",
      "6   1137047329926733825  None    6   1   en  20065936  20065936   \n",
      "7   1137034041390247937  None    3   1   en  20065936  20065936   \n",
      "8   1137017124440956929  None    5   3   en  20065936  20065936   \n",
      "9   1137076911585333248  None  110  26   en  15492359  15492359   \n",
      "10  1137089621224017923  None    0   0   en    788524    788524   \n",
      "11  1137086993731661827  None    3   2   en    788524    788524   \n",
      "12  1137084653372878849  None    8   3   en    788524    788524   \n",
      "13  1137082167505444865  None    5   1   en    788524    788524   \n",
      "14  1137079954297053185  None   21  10   en    788524    788524   \n",
      "\n",
      "                                                   7   \\\n",
      "0                       😂😂😂😂😂 https://t.co/GHThO9sBRm   \n",
      "1   RT @lemieuxdavid: This is a great one! https:/...   \n",
      "2   R.I.P. Dr. John. Pianist, singer Mac Rebennack...   \n",
      "3   Apple is reportedly buying self-driving startu...   \n",
      "4   The Best Way to Wash Your Fruits and Veggies —...   \n",
      "5   Friday's Best Amazon Deals Include K-Cups and ...   \n",
      "6   Frontier Communications Wants to Pay You $1000...   \n",
      "7   5 Ways Hacking Will Evolve in the Future — htt...   \n",
      "8   The 50 Highest-Paying College Majors for 2019 ...   \n",
      "9   Why are straight women having less satisfying ...   \n",
      "10  England look to Harry Winks to transform midfi...   \n",
      "11  'I've paid a huge personal cost:' Google walko...   \n",
      "12  Chess: Armageddon divides fans while Magnus Ca...   \n",
      "13  Maths lecturer sacked for writing 'racist' on ...   \n",
      "14  Muslim Council asks why Sajid Javid was exclud...   \n",
      "\n",
      "                         8  9   \\\n",
      "0   https://t.co/GHThO9sBRm      \n",
      "1   https://t.co/PgjSxSCcKB      \n",
      "2   https://t.co/rXtW0XnHOO      \n",
      "3   https://t.co/DjinnsL6iX      \n",
      "4   https://t.co/sxDrOq32Uu      \n",
      "5   https://t.co/t1ng8zfbT1      \n",
      "6   https://t.co/Hf6XtSh41q      \n",
      "7   https://t.co/8s9t1cje1J      \n",
      "8   https://t.co/I3C9qRooVp      \n",
      "9   https://t.co/iV9NTd7Qao      \n",
      "10  https://t.co/6xb3eUIRi3      \n",
      "11  https://t.co/hvWNGQhNd3      \n",
      "12  https://t.co/FZ6WnOYoEa      \n",
      "13  https://t.co/9Amcb0aNlu      \n",
      "14  https://t.co/Qqf4zdB68Y      \n",
      "\n",
      "                                                   10    11  \n",
      "0   #news Novak DjokovicVerifizierter Account http...  1177  \n",
      "1   #news Grateful DeadVerifizierter Account https...     0  \n",
      "2   #news Pianist, singer Mac 'Dr. John' Rebennack...   630  \n",
      "3   #news The Self-Driving Car is Here https://t.c...     3  \n",
      "4   #news The Best Way to Wash Your Fruits and Veg...     0  \n",
      "5   #news Friday's Best Amazon Deals Include K-Cup...     0  \n",
      "6   #news Frontier Communications Wants to Pay You...     6  \n",
      "7   #news 5 Ways Hacking Will Evolve in the Future...     3  \n",
      "8   #news The 50 Highest-Paying College Majors for...    15  \n",
      "9   #news We need to talk about the orgasm gap — a...  2860  \n",
      "10  #news England look to Harry Winks to transform...     0  \n",
      "11  #news 'I've paid a huge personal cost:' Google...     6  \n",
      "12  #news Chess: Armageddon divides fans while Mag...    24  \n",
      "13  #news Maths lecturer sacked for writing 'racis...     5  \n",
      "14  #news Muslim Council asks why Trump banquet ex...   210  \n",
      "(13, 13)\n"
     ]
    }
   ],
   "source": [
    "df = pd.DataFrame(columns=np.arange(12))\n",
    "for user in list_of_friends_id[:5]:\n",
    "    list_tweet = api.user_timeline(user,count=5,exclude_replies=True)\n",
    "    for tweet in list_tweet:\n",
    "        try:\n",
    "            hashtags = ' '.join([i for i in tweet._json['text'].split() if i[0]=='#'])\n",
    "            url=tweet._json['entities']['urls'][0]['url']\n",
    "            page = requests.get(url)\n",
    "            soup = BeautifulSoup(page.text, 'html.parser')\n",
    "            h1 = '#news '+soup.find('h1').text.strip()\n",
    "            list_values = [tweet.id, #0\n",
    "                               tweet.geo, #1\n",
    "                               tweet.favorite_count, #2\n",
    "                               tweet.retweet_count, #3\n",
    "                               tweet.lang, #4\n",
    "                                user,  #5\n",
    "                               tweet._json['user']['id'],  #6\n",
    "                               tweet._json['text'],  #7\n",
    "                               tweet._json['entities']['urls'][0]['url'],   #8\n",
    "                               hashtags,  #9\n",
    "                               h1+' '+url+' '+hashtags,       #10\n",
    "                               tweet.favorite_count*tweet.retweet_count, #11\n",
    "                              ]\n",
    "            print(list_values)\n",
    "            df.loc[len(df)] = list_values\n",
    "        except:\n",
    "            \n",
    "            pass\n",
    "print(df)\n",
    "df = df[df[4]=='en']\n",
    "df[12] = [False if i[:2]=='RT' else True for i in df[7]]\n",
    "df = df.sort_values(by=11,ascending=False)\n",
    "df = df[df[12]]\n",
    "print(df.shape)"
   ]
  },
  {
   "cell_type": "code",
   "execution_count": 43,
   "metadata": {},
   "outputs": [],
   "source": [
    "df = pd.DataFrame(columns=np.arange(12))"
   ]
  },
  {
   "cell_type": "code",
   "execution_count": 49,
   "metadata": {},
   "outputs": [],
   "source": [
    "df.loc[len(df)] = [1137051028464054278, None, 106, 11, 'und', 19980499, 19980499, '😂😂😂😂😂 https://t.co/GHThO9sBRm', 'https://t.co/GHThO9sBRm', '', '#news Novak DjokovicVerifizierter Account https://t.co/GHThO9sBRm ', 1166]"
   ]
  },
  {
   "cell_type": "code",
   "execution_count": 50,
   "metadata": {},
   "outputs": [
    {
     "data": {
      "text/plain": [
       "(5, 12)"
      ]
     },
     "execution_count": 50,
     "metadata": {},
     "output_type": "execute_result"
    }
   ],
   "source": [
    "df.shape"
   ]
  },
  {
   "cell_type": "code",
   "execution_count": null,
   "metadata": {},
   "outputs": [],
   "source": []
  },
  {
   "cell_type": "code",
   "execution_count": null,
   "metadata": {},
   "outputs": [],
   "source": []
  },
  {
   "cell_type": "code",
   "execution_count": null,
   "metadata": {},
   "outputs": [],
   "source": []
  },
  {
   "cell_type": "code",
   "execution_count": null,
   "metadata": {},
   "outputs": [],
   "source": [
    "df = pd.DataFrame(columns=np.arange(11))"
   ]
  },
  {
   "cell_type": "code",
   "execution_count": 22,
   "metadata": {},
   "outputs": [
    {
     "data": {
      "text/plain": [
       "array([10, 11, 12, 13, 14, 15, 16, 17, 18, 19, 20])"
      ]
     },
     "execution_count": 22,
     "metadata": {},
     "output_type": "execute_result"
    }
   ],
   "source": [
    "np.arange(10,21)"
   ]
  },
  {
   "cell_type": "code",
   "execution_count": 24,
   "metadata": {},
   "outputs": [
    {
     "data": {
      "text/plain": [
       "0"
      ]
     },
     "execution_count": 24,
     "metadata": {},
     "output_type": "execute_result"
    }
   ],
   "source": [
    "len(df)"
   ]
  },
  {
   "cell_type": "code",
   "execution_count": 29,
   "metadata": {},
   "outputs": [],
   "source": [
    "df.loc[len(df)]=np.arange(11)"
   ]
  },
  {
   "cell_type": "code",
   "execution_count": 30,
   "metadata": {},
   "outputs": [
    {
     "data": {
      "text/html": [
       "<div>\n",
       "<style scoped>\n",
       "    .dataframe tbody tr th:only-of-type {\n",
       "        vertical-align: middle;\n",
       "    }\n",
       "\n",
       "    .dataframe tbody tr th {\n",
       "        vertical-align: top;\n",
       "    }\n",
       "\n",
       "    .dataframe thead th {\n",
       "        text-align: right;\n",
       "    }\n",
       "</style>\n",
       "<table border=\"1\" class=\"dataframe\">\n",
       "  <thead>\n",
       "    <tr style=\"text-align: right;\">\n",
       "      <th></th>\n",
       "      <th>0</th>\n",
       "      <th>1</th>\n",
       "      <th>2</th>\n",
       "      <th>3</th>\n",
       "      <th>4</th>\n",
       "      <th>5</th>\n",
       "      <th>6</th>\n",
       "      <th>7</th>\n",
       "      <th>8</th>\n",
       "      <th>9</th>\n",
       "      <th>10</th>\n",
       "    </tr>\n",
       "  </thead>\n",
       "  <tbody>\n",
       "    <tr>\n",
       "      <th>0</th>\n",
       "      <td>0</td>\n",
       "      <td>1</td>\n",
       "      <td>2</td>\n",
       "      <td>3</td>\n",
       "      <td>4</td>\n",
       "      <td>5</td>\n",
       "      <td>6</td>\n",
       "      <td>7</td>\n",
       "      <td>8</td>\n",
       "      <td>9</td>\n",
       "      <td>10</td>\n",
       "    </tr>\n",
       "    <tr>\n",
       "      <th>1</th>\n",
       "      <td>0</td>\n",
       "      <td>1</td>\n",
       "      <td>2</td>\n",
       "      <td>3</td>\n",
       "      <td>4</td>\n",
       "      <td>5</td>\n",
       "      <td>6</td>\n",
       "      <td>7</td>\n",
       "      <td>8</td>\n",
       "      <td>9</td>\n",
       "      <td>10</td>\n",
       "    </tr>\n",
       "    <tr>\n",
       "      <th>2</th>\n",
       "      <td>0</td>\n",
       "      <td>1</td>\n",
       "      <td>2</td>\n",
       "      <td>3</td>\n",
       "      <td>4</td>\n",
       "      <td>5</td>\n",
       "      <td>6</td>\n",
       "      <td>7</td>\n",
       "      <td>8</td>\n",
       "      <td>9</td>\n",
       "      <td>10</td>\n",
       "    </tr>\n",
       "  </tbody>\n",
       "</table>\n",
       "</div>"
      ],
      "text/plain": [
       "  0  1  2  3  4  5  6  7  8  9   10\n",
       "0  0  1  2  3  4  5  6  7  8  9  10\n",
       "1  0  1  2  3  4  5  6  7  8  9  10\n",
       "2  0  1  2  3  4  5  6  7  8  9  10"
      ]
     },
     "execution_count": 30,
     "metadata": {},
     "output_type": "execute_result"
    }
   ],
   "source": [
    "df"
   ]
  },
  {
   "cell_type": "code",
   "execution_count": null,
   "metadata": {},
   "outputs": [],
   "source": []
  },
  {
   "cell_type": "code",
   "execution_count": null,
   "metadata": {},
   "outputs": [],
   "source": []
  },
  {
   "cell_type": "code",
   "execution_count": null,
   "metadata": {},
   "outputs": [],
   "source": [
    "tweet = api.user_timeline(15754281,count=3,exclude_replies=True)"
   ]
  },
  {
   "cell_type": "code",
   "execution_count": null,
   "metadata": {},
   "outputs": [],
   "source": [
    "tweet[0]._json['entities']['urls'][0]"
   ]
  },
  {
   "cell_type": "code",
   "execution_count": null,
   "metadata": {},
   "outputs": [],
   "source": [
    "tweet[0]._json['entities']['urls'][0]['url']"
   ]
  },
  {
   "cell_type": "code",
   "execution_count": null,
   "metadata": {},
   "outputs": [],
   "source": [
    "import selenium"
   ]
  },
  {
   "cell_type": "code",
   "execution_count": null,
   "metadata": {},
   "outputs": [],
   "source": [
    "df.shape"
   ]
  },
  {
   "cell_type": "code",
   "execution_count": null,
   "metadata": {},
   "outputs": [],
   "source": [
    "url='https://t.co/Lf6AqowKyN'\n",
    "page = requests.get(url)\n",
    "soup = BeautifulSoup(page.text, 'html.parser')"
   ]
  },
  {
   "cell_type": "code",
   "execution_count": null,
   "metadata": {},
   "outputs": [],
   "source": []
  },
  {
   "cell_type": "code",
   "execution_count": null,
   "metadata": {},
   "outputs": [],
   "source": [
    "'#news '+soup.find('h1').text.strip()"
   ]
  },
  {
   "cell_type": "code",
   "execution_count": null,
   "metadata": {},
   "outputs": [],
   "source": [
    "api.update_status(('#news '+soup.find('h1').text.strip()+' '+url))"
   ]
  },
  {
   "cell_type": "code",
   "execution_count": null,
   "metadata": {},
   "outputs": [],
   "source": []
  },
  {
   "cell_type": "code",
   "execution_count": null,
   "metadata": {},
   "outputs": [],
   "source": [
    "df = pd.DataFrame(columns=np.arange(11))\n",
    "for user in list_of_friends_id[:5]:\n",
    "    list_tweet = api.user_timeline(user,count=3,exclude_replies=True)\n",
    "    for tweet in list_tweet:\n",
    "        try:\n",
    "            hashtags = ' '.join([i for i in tweet._json['text'].split() if i[0]=='#'])\n",
    "            url=tweet._json['entities']['urls'][0]['url']\n",
    "            page = requests.get(url)\n",
    "            soup = BeautifulSoup(page.text, 'html.parser')\n",
    "            h1 = '#news '+soup.find('h1').text.strip()\n",
    "\n",
    "            df.loc[len(df)] = [tweet.id, #0\n",
    "                               tweet.geo, #1\n",
    "                               tweet.favorite_count, #2\n",
    "                               tweet.retweet_count, #3\n",
    "                               tweet.lang, #4\n",
    "                                user,  #5\n",
    "                               tweet._json['user']['id'],  #6\n",
    "                               tweet._json['text'],  #7\n",
    "                               tweet._json['entities']['urls'][0]['url'],   #8\n",
    "                               hashtags,  #9\n",
    "                               h1+' '+url+' '+hashtags]        #10\n",
    "        except:\n",
    "            pass\n",
    "print(df.shape)\n",
    "df[11]=df[2]+df[3]*2   #scoring of the tweets\n",
    "df = df[df[4]=='en']\n",
    "df[12] = [False if i[:2]=='RT' else True for i in df[7]]\n",
    "df = df.sort_values(by=11,ascending=False)\n",
    "df = df[df[12]]"
   ]
  },
  {
   "cell_type": "code",
   "execution_count": null,
   "metadata": {},
   "outputs": [],
   "source": [
    "df.index"
   ]
  },
  {
   "cell_type": "code",
   "execution_count": null,
   "metadata": {},
   "outputs": [],
   "source": [
    "df.head(2)"
   ]
  },
  {
   "cell_type": "code",
   "execution_count": null,
   "metadata": {},
   "outputs": [],
   "source": [
    "df.loc[7][10]"
   ]
  },
  {
   "cell_type": "code",
   "execution_count": null,
   "metadata": {},
   "outputs": [],
   "source": []
  },
  {
   "cell_type": "code",
   "execution_count": null,
   "metadata": {},
   "outputs": [],
   "source": []
  },
  {
   "cell_type": "code",
   "execution_count": null,
   "metadata": {},
   "outputs": [],
   "source": [
    "df[10][0]"
   ]
  },
  {
   "cell_type": "code",
   "execution_count": null,
   "metadata": {},
   "outputs": [],
   "source": [
    "np.arange(10)"
   ]
  },
  {
   "cell_type": "code",
   "execution_count": null,
   "metadata": {},
   "outputs": [],
   "source": [
    "' '.join([i for i in df[7][23].split() if i[0]=='#'])"
   ]
  },
  {
   "cell_type": "code",
   "execution_count": null,
   "metadata": {},
   "outputs": [],
   "source": [
    "df.head(2)"
   ]
  },
  {
   "cell_type": "code",
   "execution_count": null,
   "metadata": {},
   "outputs": [],
   "source": []
  }
 ],
 "metadata": {
  "kernelspec": {
   "display_name": "myenv",
   "language": "python",
   "name": "myenv"
  },
  "language_info": {
   "codemirror_mode": {
    "name": "ipython",
    "version": 3
   },
   "file_extension": ".py",
   "mimetype": "text/x-python",
   "name": "python",
   "nbconvert_exporter": "python",
   "pygments_lexer": "ipython3",
   "version": "3.7.1"
  }
 },
 "nbformat": 4,
 "nbformat_minor": 2
}

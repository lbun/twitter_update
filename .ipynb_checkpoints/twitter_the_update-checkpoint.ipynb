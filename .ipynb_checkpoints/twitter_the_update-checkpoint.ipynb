{
 "cells": [
  {
   "cell_type": "code",
   "execution_count": null,
   "metadata": {},
   "outputs": [],
   "source": []
  },
  {
   "cell_type": "code",
   "execution_count": 1,
   "metadata": {},
   "outputs": [
    {
     "name": "stdout",
     "output_type": "stream",
     "text": [
      "Z2zcv1PTR3vEr9jtUcDC3yark\n"
     ]
    }
   ],
   "source": [
    "import twitter\n",
    "import tweepy\n",
    "from tweepy import API\n",
    "from tweepy import Cursor\n",
    "import numpy as np\n",
    "from sqlalchemy import create_engine\n",
    "import pandas as pd\n",
    "import time\n",
    "from time import sleep\n",
    "import os\n",
    "\n",
    "ck = os.environ.get('CK')\n",
    "cs = os.environ.get('CS')\n",
    "atk = os.environ.get('ATK')\n",
    "ats = os.environ.get('ATS')\n",
    "\n",
    "'''ck = os.environ.get(TWITTER_CLIENT_KEY)\n",
    "cs = os.environ.get(TWITTER_CLIENT_SECRET)\n",
    "atk = os.environ.get(TWITTER_AT_KEY)\n",
    "ats = os.environ.get(TWITTER_AT_SECRET)'''\n",
    "\n",
    "# print(os.environ.get(ck))\n",
    "\n",
    "auth = tweepy.OAuthHandler(ck, cs)\n",
    "auth.set_access_token(atk, ats)\n",
    "auth_api = API(auth)\n",
    "\n",
    "api = tweepy.API(auth, wait_on_rate_limit=True)\n",
    "print(ck)"
   ]
  },
  {
   "cell_type": "code",
   "execution_count": 13,
   "metadata": {},
   "outputs": [
    {
     "data": {
      "text/plain": [
       "[15754281, 788524, 2768501, 16834659, 14138785]"
      ]
     },
     "execution_count": 13,
     "metadata": {},
     "output_type": "execute_result"
    }
   ],
   "source": [
    "# Get the list of friends\n",
    "list_of_friends_id = api.friends_ids()\n",
    "list_of_friends_id[:5]"
   ]
  },
  {
   "cell_type": "code",
   "execution_count": 14,
   "metadata": {},
   "outputs": [
    {
     "data": {
      "text/plain": [
       "'USA TODAY'"
      ]
     },
     "execution_count": 14,
     "metadata": {},
     "output_type": "execute_result"
    }
   ],
   "source": [
    "# To get the name of a friend\n",
    "x = api.friends()[0]\n",
    "x.name"
   ]
  },
  {
   "cell_type": "code",
   "execution_count": 15,
   "metadata": {},
   "outputs": [],
   "source": [
    "y = api.user_timeline(18949452,count=5)[0]"
   ]
  },
  {
   "cell_type": "code",
   "execution_count": 16,
   "metadata": {},
   "outputs": [
    {
     "name": "stdout",
     "output_type": "stream",
     "text": [
      "None 1127562725335412736 6 5 en\n"
     ]
    }
   ],
   "source": [
    "print(y.geo,y.id,y.favorite_count,y.retweet_count,y.lang)"
   ]
  },
  {
   "cell_type": "code",
   "execution_count": 17,
   "metadata": {},
   "outputs": [
    {
     "data": {
      "text/plain": [
       "20"
      ]
     },
     "execution_count": 17,
     "metadata": {},
     "output_type": "execute_result"
    }
   ],
   "source": [
    "# my id\n",
    "my_id = api.me().id\n",
    "len(api.user_timeline(my_id))"
   ]
  },
  {
   "cell_type": "code",
   "execution_count": 20,
   "metadata": {},
   "outputs": [],
   "source": [
    "# my_id = api.me().id\n",
    "# y = api.user_timeline(my_id)\n",
    "# my_tweets_list = [i.id for i in y]"
   ]
  },
  {
   "cell_type": "code",
   "execution_count": 27,
   "metadata": {},
   "outputs": [
    {
     "data": {
      "text/plain": [
       "15754281"
      ]
     },
     "execution_count": 27,
     "metadata": {},
     "output_type": "execute_result"
    }
   ],
   "source": [
    "#api.user_timeline(my_id)\n",
    "list_of_friends_id[0]"
   ]
  },
  {
   "cell_type": "code",
   "execution_count": 19,
   "metadata": {},
   "outputs": [],
   "source": [
    "list_of_friends_id = api.friends_ids()\n",
    "\n",
    "def theupdate_at_work():\n",
    "    while True:\n",
    "        df = pd.DataFrame(columns=np.arange(5))\n",
    "        for user in list_of_friends_id:\n",
    "            list_tweet = api.user_timeline(user,count=3,exclude_replies=True)\n",
    "            for tweet in list_tweet:\n",
    "                df.loc[len(df)] = [tweet.id,tweet.geo,tweet.favorite_count,tweet.retweet_count,tweet.lang]\n",
    "        df[5]=df[2]+df[3]*2\n",
    "        df = df.sort_values(by=5,ascending=False)\n",
    "\n",
    "        counter = 0\n",
    "        counter_tweet = 0\n",
    "        counter_errors = 0\n",
    "        for tw in list(df[0]):\n",
    "            # counter+=1\n",
    "            # print('Global counter: ',counter, end='\\r')\n",
    "            if counter_tweet==5:\n",
    "                break\n",
    "            else:\n",
    "                try:\n",
    "                    api.retweet(tw)\n",
    "                    counter_tweet+=1\n",
    "                    print('tweet number: ',counter_tweet,end='\\r')\n",
    "                    for second in range(180):\n",
    "                        time.sleep(1)\n",
    "                        print('timer: ',179-second,end='\\r')\n",
    "                except:\n",
    "                    pass"
   ]
  },
  {
   "cell_type": "code",
   "execution_count": null,
   "metadata": {},
   "outputs": [],
   "source": [
    "theupdate_at_work()"
   ]
  },
  {
   "cell_type": "code",
   "execution_count": null,
   "metadata": {},
   "outputs": [],
   "source": []
  },
  {
   "cell_type": "code",
   "execution_count": null,
   "metadata": {},
   "outputs": [],
   "source": []
  },
  {
   "cell_type": "code",
   "execution_count": null,
   "metadata": {},
   "outputs": [],
   "source": []
  },
  {
   "cell_type": "code",
   "execution_count": null,
   "metadata": {},
   "outputs": [],
   "source": []
  }
 ],
 "metadata": {
  "kernelspec": {
   "display_name": "myenv",
   "language": "python",
   "name": "myenv"
  },
  "language_info": {
   "codemirror_mode": {
    "name": "ipython",
    "version": 3
   },
   "file_extension": ".py",
   "mimetype": "text/x-python",
   "name": "python",
   "nbconvert_exporter": "python",
   "pygments_lexer": "ipython3",
   "version": "3.7.1"
  }
 },
 "nbformat": 4,
 "nbformat_minor": 2
}
